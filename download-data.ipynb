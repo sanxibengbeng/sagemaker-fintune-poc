{
 "cells": [
  {
   "cell_type": "code",
   "execution_count": null,
   "id": "212fb48e-e435-4ade-9b10-37de24d9e973",
   "metadata": {},
   "outputs": [],
   "source": [
    "# Import necessary libraries\n",
    "import pandas as pd\n",
    "import boto3\n",
    "import sagemaker\n",
    "import os\n",
    "from sagemaker import get_execution_role\n",
    "\n",
    "# Set up SageMaker session and IAM role\n",
    "role = get_execution_role()\n",
    "sagemaker_session = sagemaker.Session()\n",
    "bucket = 'bedrock-log-zyl'\n",
    "prefix = 'adult_census_data'\n",
    "\n",
    "# Define S3 path for data storage\n",
    "s3_path = f's3://{bucket}/{prefix}/'\n",
    "\n",
    "# Download the UCI Adult Census dataset\n",
    "data_url = 'https://archive.ics.uci.edu/ml/machine-learning-databases/adult/adult.data'\n",
    "data = pd.read_csv(data_url, header=None, \n",
    "                   names=['age', 'workclass', 'fnlwgt', 'education', 'education-num', \n",
    "                          'marital-status', 'occupation', 'relationship', 'race', 'sex', \n",
    "                          'capital-gain', 'capital-loss', 'hours-per-week', 'native-country', 'income'])\n",
    "\n",
    "# Save the dataset locally as a CSV file\n",
    "local_file = 'adult_data.csv'\n",
    "data.to_csv(local_file, index=False)\n",
    "\n",
    "# Upload the dataset to S3\n",
    "s3_client = boto3.client('s3')\n",
    "s3_client.upload_file(local_file, bucket, f'{prefix}/{local_file}')\n",
    "\n",
    "# Verify the upload\n",
    "print(f\"Dataset uploaded to {s3_path}{local_file}\")\n",
    "\n",
    "# Optional: Display the first few rows of the dataset\n",
    "print(\"\\nFirst few rows of the dataset:\")\n",
    "print(data.head())\n",
    "\n",
    "# Clean up local file\n",
    "os.remove(local_file)"
   ]
  }
 ],
 "metadata": {
  "kernelspec": {
   "display_name": "conda_python3",
   "language": "python",
   "name": "conda_python3"
  },
  "language_info": {
   "codemirror_mode": {
    "name": "ipython",
    "version": 3
   },
   "file_extension": ".py",
   "mimetype": "text/x-python",
   "name": "python",
   "nbconvert_exporter": "python",
   "pygments_lexer": "ipython3",
   "version": "3.10.18"
  }
 },
 "nbformat": 4,
 "nbformat_minor": 5
}
